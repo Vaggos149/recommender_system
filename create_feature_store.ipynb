{
 "cells": [
  {
   "cell_type": "code",
   "execution_count": 1,
   "id": "2933b25e-c95e-4ce8-9249-9ef79075209d",
   "metadata": {},
   "outputs": [],
   "source": [
    "import pandas as pd\n",
    "import numpy as np\n",
    "import time"
   ]
  },
  {
   "cell_type": "markdown",
   "id": "3a7e4716-e60d-4c59-adb1-c5b8f78761c4",
   "metadata": {},
   "source": [
    "### Run Dependencies"
   ]
  },
  {
   "cell_type": "code",
   "execution_count": 2,
   "id": "53c8897c-579e-4cea-98d1-6dcac114dc16",
   "metadata": {},
   "outputs": [],
   "source": [
    "%run ./utils.ipynb"
   ]
  },
  {
   "cell_type": "markdown",
   "id": "57a82315-0ac5-4dc7-b7a9-bf289ccb8dd3",
   "metadata": {},
   "source": [
    "### Invoke Feature Store Class"
   ]
  },
  {
   "cell_type": "code",
   "execution_count": 3,
   "id": "3ca4adc8-77bd-449b-b1d1-c7c6579d42c5",
   "metadata": {},
   "outputs": [],
   "source": [
    "feature_store = FeatureStore()"
   ]
  },
  {
   "cell_type": "markdown",
   "id": "7e3e0fec-8c06-4c1a-b7a6-61468d012555",
   "metadata": {},
   "source": [
    "### Execute Pipeline"
   ]
  },
  {
   "cell_type": "code",
   "execution_count": null,
   "id": "0db94def-0f60-4d19-8ec4-766720688bb3",
   "metadata": {},
   "outputs": [
    {
     "name": "stdout",
     "output_type": "stream",
     "text": [
      "Extracting Data From SQL Server Database\n"
     ]
    },
    {
     "name": "stderr",
     "output_type": "stream",
     "text": [
      "C:\\Users\\evch01\\AppData\\Local\\Temp\\ipykernel_33116\\1126379907.py:33: UserWarning: pandas only supports SQLAlchemy connectable (engine/connection) or database string URI or sqlite3 DBAPI2 connection. Other DBAPI2 objects are not tested. Please consider using SQLAlchemy.\n",
      "  self.feature_store_df = pd.read_sql(self.database_query, self.connection)\n"
     ]
    }
   ],
   "source": [
    "start = time.time()\n",
    "feature_store.execute_pipeline()\n",
    "end = time.time()\n",
    "\n",
    "#Subtract Start Time from The End Time\n",
    "total_time = end - start\n",
    "print(\"Number of seconds\"+ str(total_time))"
   ]
  }
 ],
 "metadata": {
  "kernelspec": {
   "display_name": "Python 3 (ipykernel)",
   "language": "python",
   "name": "python3"
  },
  "language_info": {
   "codemirror_mode": {
    "name": "ipython",
    "version": 3
   },
   "file_extension": ".py",
   "mimetype": "text/x-python",
   "name": "python",
   "nbconvert_exporter": "python",
   "pygments_lexer": "ipython3",
   "version": "3.11.10"
  }
 },
 "nbformat": 4,
 "nbformat_minor": 5
}
