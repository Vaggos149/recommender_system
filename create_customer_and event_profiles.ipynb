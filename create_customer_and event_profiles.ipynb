{
 "cells": [
  {
   "cell_type": "markdown",
   "id": "9a2cebec-350a-40b6-b821-3d945ab973b0",
   "metadata": {},
   "source": [
    "### Run Dependencies"
   ]
  },
  {
   "cell_type": "code",
   "execution_count": null,
   "id": "1e6514aa",
   "metadata": {},
   "outputs": [],
   "source": [
    "print(\"Hello\")\n",
    "print(\"Something Here\")"
   ]
  },
  {
   "cell_type": "code",
   "execution_count": 1,
   "id": "29b28fa2-7732-4626-be9d-3928e704974b",
   "metadata": {},
   "outputs": [],
   "source": [
    "%run ./utils.ipynb"
   ]
  },
  {
   "cell_type": "markdown",
   "id": "4db6f3b2-7191-4f61-a51e-bb2e294735af",
   "metadata": {},
   "source": [
    "### Invoke Customer and Event Profile Classes"
   ]
  },
  {
   "cell_type": "code",
   "execution_count": 2,
   "id": "1524994b-378d-4cb7-9cd4-d55d17c8d9d7",
   "metadata": {},
   "outputs": [],
   "source": [
    "customer_profile = CustomerProfile()\n",
    "event_profile = EventProfile()"
   ]
  },
  {
   "cell_type": "markdown",
   "id": "214ed02f-dcc8-48ad-b223-84117e11e624",
   "metadata": {},
   "source": [
    "### Execute Pipeline for creating Customer and Event Profiles"
   ]
  },
  {
   "cell_type": "code",
   "execution_count": null,
   "id": "2dd664bf-fbdd-41e4-a870-a534c4d90a7d",
   "metadata": {},
   "outputs": [
    {
     "name": "stderr",
     "output_type": "stream",
     "text": [
      "C:\\Users\\evch01\\AppData\\Local\\Temp\\ipykernel_19112\\899294281.py:65: UserWarning: pandas only supports SQLAlchemy connectable (engine/connection) or database string URI or sqlite3 DBAPI2 connection. Other DBAPI2 objects are not tested. Please consider using SQLAlchemy.\n",
      "  df_actives = pd.read_sql(self.database_query_for_actives, self.connection)\n"
     ]
    },
    {
     "name": "stdout",
     "output_type": "stream",
     "text": [
      "Extracting Data From SQL Server Database\n"
     ]
    },
    {
     "name": "stderr",
     "output_type": "stream",
     "text": [
      "C:\\Users\\evch01\\AppData\\Local\\Temp\\ipykernel_19112\\1690416849.py:40: UserWarning: pandas only supports SQLAlchemy connectable (engine/connection) or database string URI or sqlite3 DBAPI2 connection. Other DBAPI2 objects are not tested. Please consider using SQLAlchemy.\n",
      "  self.events_df = pd.read_sql(self.database_query, self.connection)\n"
     ]
    },
    {
     "name": "stdout",
     "output_type": "stream",
     "text": [
      "Finished Data From SQL Server Database\n",
      "Started Writing Data to Lake\n",
      "Finished Writing Data to Lake\n"
     ]
    }
   ],
   "source": [
    "customer_profile.execute_pipeline()\n",
    "event_profile.execute_pipeline()\n",
    "print(\"Hello\")"
   ]
  }
 ],
 "metadata": {
  "kernelspec": {
   "display_name": "Python 3 (ipykernel)",
   "language": "python",
   "name": "python3"
  },
  "language_info": {
   "codemirror_mode": {
    "name": "ipython",
    "version": 3
   },
   "file_extension": ".py",
   "mimetype": "text/x-python",
   "name": "python",
   "nbconvert_exporter": "python",
   "pygments_lexer": "ipython3",
   "version": "3.11.10"
  }
 },
 "nbformat": 4,
 "nbformat_minor": 5
}
